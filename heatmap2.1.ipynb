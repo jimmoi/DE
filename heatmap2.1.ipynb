{
 "cells": [
  {
   "cell_type": "code",
   "execution_count": 7,
   "id": "908ab2bd",
   "metadata": {},
   "outputs": [],
   "source": [
    "import pandas as pd\n",
    "import numpy as np\n",
    "import ast\n",
    "import seaborn as sns\n",
    "import matplotlib.pyplot as plt\n",
    "from matplotlib import cm"
   ]
  },
  {
   "cell_type": "code",
   "execution_count": 8,
   "id": "b8e85181",
   "metadata": {},
   "outputs": [],
   "source": [
    "LOG_PATH = \"detections_log.csv\"  # ใช้ไฟล์ที่อัปโหลดมา\n",
    "FRAME_WIDTH = 1280\n",
    "FRAME_HEIGHT = 720"
   ]
  },
  {
   "cell_type": "code",
   "execution_count": 3,
   "id": "802a486b",
   "metadata": {},
   "outputs": [],
   "source": [
    "def parse_xy(xy_str):\n",
    "    try:\n",
    "        xy = ast.literal_eval(str(xy_str))\n",
    "        if isinstance(xy, (list, tuple)) and len(xy) == 2:\n",
    "            cx = float(xy[0]) * FRAME_WIDTH\n",
    "            cy = float(xy[1]) * FRAME_HEIGHT\n",
    "            return cx, cy\n",
    "    except:\n",
    "        pass\n",
    "    return None"
   ]
  },
  {
   "cell_type": "code",
   "execution_count": 4,
   "id": "3d00760e",
   "metadata": {},
   "outputs": [],
   "source": [
    "# อ่าน CSV\n",
    "df = pd.read_csv(LOG_PATH, on_bad_lines='skip')\n",
    "\n",
    "# หาคอลัมน์ตำแหน่ง\n",
    "xy_cols = [col for col in df.columns if \"_xy\" in col]"
   ]
  },
  {
   "cell_type": "code",
   "execution_count": 5,
   "id": "34adccd0",
   "metadata": {},
   "outputs": [],
   "source": [
    "# หา frame id แรก\n",
    "if \"frame\" in df.columns:\n",
    "    first_frame_id = df[\"frame\"].min()\n",
    "    df_first_frame = df[df[\"frame\"] == first_frame_id]\n",
    "else:\n",
    "    # ถ้าไม่มีคอลัมน์ frame ใช้แถวแรกของ log\n",
    "    df_first_frame = df.iloc[[0]]"
   ]
  },
  {
   "cell_type": "code",
   "execution_count": 6,
   "id": "c4619f64",
   "metadata": {},
   "outputs": [
    {
     "ename": "ValueError",
     "evalue": "ต้องการอย่างน้อย 2 จุด แต่พบ 1",
     "output_type": "error",
     "traceback": [
      "\u001b[1;31m---------------------------------------------------------------------------\u001b[0m",
      "\u001b[1;31mValueError\u001b[0m                                Traceback (most recent call last)",
      "Cell \u001b[1;32mIn[6], line 13\u001b[0m\n\u001b[0;32m     10\u001b[0m points \u001b[38;5;241m=\u001b[39m points[\u001b[38;5;241m~\u001b[39mnp\u001b[38;5;241m.\u001b[39misnan(points)\u001b[38;5;241m.\u001b[39many(axis\u001b[38;5;241m=\u001b[39m\u001b[38;5;241m1\u001b[39m)]\n\u001b[0;32m     12\u001b[0m \u001b[38;5;28;01mif\u001b[39;00m \u001b[38;5;28mlen\u001b[39m(points) \u001b[38;5;241m<\u001b[39m \u001b[38;5;241m2\u001b[39m:\n\u001b[1;32m---> 13\u001b[0m     \u001b[38;5;28;01mraise\u001b[39;00m \u001b[38;5;167;01mValueError\u001b[39;00m(\u001b[38;5;124mf\u001b[39m\u001b[38;5;124m\"\u001b[39m\u001b[38;5;124mต้องการอย่างน้อย 2 จุด แต่พบ \u001b[39m\u001b[38;5;132;01m{\u001b[39;00m\u001b[38;5;28mlen\u001b[39m(points)\u001b[38;5;132;01m}\u001b[39;00m\u001b[38;5;124m\"\u001b[39m)\n",
      "\u001b[1;31mValueError\u001b[0m: ต้องการอย่างน้อย 2 จุด แต่พบ 1"
     ]
    }
   ],
   "source": [
    "# รวมพิกัดเฉพาะเฟรมแรก\n",
    "points = []\n",
    "for _, row in df_first_frame.iterrows():\n",
    "    for col in xy_cols:\n",
    "        coords = parse_xy(row[col])\n",
    "        if coords:\n",
    "            points.append(coords)\n",
    "\n",
    "points = np.array(points, dtype=float)\n",
    "points = points[~np.isnan(points).any(axis=1)]\n",
    "\n",
    "if len(points) < 2:\n",
    "    raise ValueError(f\"ต้องการอย่างน้อย 2 จุด แต่พบ {len(points)}\")\n"
   ]
  },
  {
   "cell_type": "code",
   "execution_count": null,
   "id": "9e663ecd",
   "metadata": {},
   "outputs": [],
   "source": [
    "# ทำ KDE plot\n",
    "plt.figure(figsize=(10, 6))\n",
    "sns.kdeplot(\n",
    "    x=points[:, 0],\n",
    "    y=points[:, 1],\n",
    "    fill=True,\n",
    "    cmap=cm.get_cmap(\"jet\"),\n",
    "    bw_adjust=0.5,\n",
    "    levels=100,\n",
    "    thresh=0,\n",
    "    cbar=True\n",
    ")\n",
    "plt.gca().invert_yaxis()\n",
    "plt.title(\"KDE Heatmap - First Frame Only\")\n",
    "plt.xlabel(\"X position (px)\")\n",
    "plt.ylabel(\"Y position (px)\")\n",
    "plt.savefig(\"heatmap_kde_first_frame.png\", dpi=300)\n",
    "plt.show()\n",
    "\n",
    "print(\"บันทึก heatmap_kde_first_frame.png แล้ว\")"
   ]
  }
 ],
 "metadata": {
  "kernelspec": {
   "display_name": "Python 3",
   "language": "python",
   "name": "python3"
  },
  "language_info": {
   "codemirror_mode": {
    "name": "ipython",
    "version": 3
   },
   "file_extension": ".py",
   "mimetype": "text/x-python",
   "name": "python",
   "nbconvert_exporter": "python",
   "pygments_lexer": "ipython3",
   "version": "3.10.6"
  }
 },
 "nbformat": 4,
 "nbformat_minor": 5
}
